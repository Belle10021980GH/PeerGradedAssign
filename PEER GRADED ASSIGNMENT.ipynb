{
    "cells": [
        {
            "metadata": {},
            "cell_type": "markdown",
            "source": "# My Jupyter Notebook on IBM Watson Studio #"
        },
        {
            "metadata": {
                "collapsed": true
            },
            "cell_type": "markdown",
            "source": "**Genella Harrison**\n<br>Web Master</br>"
        },
        {
            "metadata": {},
            "cell_type": "markdown",
            "source": "*I am interested in data science because I have experience with coding already and this was a step up. Data Science is fascinating to me because it goes with my love of learning new things!*"
        },
        {
            "metadata": {},
            "cell_type": "markdown",
            "source": "### My code is going to add up the numbers and then the output will be the sum. ###"
        },
        {
            "metadata": {},
            "cell_type": "code",
            "source": "1 + 1 + 1",
            "execution_count": 11,
            "outputs": [
                {
                    "output_type": "execute_result",
                    "execution_count": 11,
                    "data": {
                        "text/plain": "3"
                    },
                    "metadata": {}
                }
            ]
        },
        {
            "metadata": {},
            "cell_type": "markdown",
            "source": "*06/26/2020*\n\n>* Dress\n* Shoes\n* Bag\n\n\n>|**Item** |**Quantity**|**Cost**|\n |---      |---         |---     |\n |*Dress*  |*1*         |`$100`  |\n |*Shoes*  |*1*         |`$100`  |\n |*Bag*    |*1*         |`$100`  |\n |---      |---         |---     |\n |**TOTAL**|**3**       |**$300**|"
        }
    ],
    "metadata": {
        "kernelspec": {
            "name": "python3",
            "display_name": "Python 3.6",
            "language": "python"
        },
        "language_info": {
            "name": "python",
            "version": "3.6.9",
            "mimetype": "text/x-python",
            "codemirror_mode": {
                "name": "ipython",
                "version": 3
            },
            "pygments_lexer": "ipython3",
            "nbconvert_exporter": "python",
            "file_extension": ".py"
        }
    },
    "nbformat": 4,
    "nbformat_minor": 1
}